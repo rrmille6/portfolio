{
 "cells": [
  {
   "cell_type": "markdown",
   "id": "68298a66",
   "metadata": {},
   "source": [
    "# Facility Location Problem (FLP)\n",
    "### Optimization Solution; Minimize Miles"
   ]
  },
  {
   "cell_type": "markdown",
   "id": "d25b010f",
   "metadata": {},
   "source": [
    "**The following code helps solution for the optimal location to place facilites that serve customers with the least amount of transportation miles. The model takes GPS coordinates as the input and delivers them in the same format for the output.**\n",
    "\n",
    "Note: As with most Facility Location Problems, the model gives the user the __*optimal*__ solution, however, as many logistics professionals know, in many cases the __\"optimal*__ solution may not be the __*best*__ solution given the many different strategic intiatvies, goals, and relationships that are hard to quantify and model for any given a business. Thus, the solution gives us a data-driven, quantitive idea and direction to round out the descion making process."
   ]
  },
  {
   "cell_type": "code",
   "execution_count": 84,
   "id": "d28caaad",
   "metadata": {},
   "outputs": [],
   "source": [
    "#import necessary libraries\n",
    "import pandas as pd # read and transform data file\n",
    "import numpy as np # transform data file\n",
    "from scipy.optimize import minimize # for our objective function and optimzation result\n",
    "from math import radians, sin, cos, sqrt, atan2 # for distance function"
   ]
  },
  {
   "cell_type": "code",
   "execution_count": 85,
   "id": "41746611",
   "metadata": {},
   "outputs": [],
   "source": [
    "# Read data in from the Excel file\n",
    "file_path =r\"Import your file here"\n",
    "df = pd.read_excel(file_path)"
   ]
  },
  {
   "cell_type": "code",
   "execution_count": 86,
   "id": "8775843a",
   "metadata": {},
   "outputs": [],
   "source": [
    "# this cblock of code, defines our inputs used to calcuate the difference between our warehouses and customer destinations.\n",
    "#Assuming the file is named 'data.xlsx' and the columns are named 'Latitude', 'Longitude', 'Shipments'\n",
    "latitudes = df['Latitude'].tolist()\n",
    "longitudes = df['Longitude'].tolist()\n",
    "shipments = df['Shipments'].tolist()"
   ]
  },
  {
   "cell_type": "code",
   "execution_count": 87,
   "id": "d16a5713",
   "metadata": {},
   "outputs": [],
   "source": [
    "# Define the distance function\n",
    "def haversine(lat1, lon1, lat2, lon2):\n",
    "    # Convert latitude and longitude from degrees to radians\n",
    "    lat1 = radians(lat1)\n",
    "    lon1 = radians(lon1)\n",
    "    lat2 = radians(lat2)\n",
    "    lon2 = radians(lon2)\n",
    "    \n",
    "    # Haversine formula to calcualte distance\n",
    "    dlat = lat2 - lat1\n",
    "    dlon = lon2 - lon1\n",
    "    a = sin(dlat/2)**2 + cos(lat1) * cos(lat2) * sin(dlon/2)**2\n",
    "    c = 2 * atan2(sqrt(a), sqrt(1-a))\n",
    "    return 6371 * c  # Radius of the Earth in km"
   ]
  },
  {
   "cell_type": "code",
   "execution_count": 88,
   "id": "1228e5e8",
   "metadata": {},
   "outputs": [],
   "source": [
    "# Defining the objective function, minimize distance: this code loops through each of the records in the original data file, and \n",
    "def total_distance(warehouses):\n",
    "    total = 0\n",
    "    for i in range(len(latitudes)):\n",
    "        min_dist = float('inf')\n",
    "        for j in range(len(warehouses)//2):\n",
    "            dist = haversine(latitudes[i], longitudes[i], warehouses[2*j], warehouses[2*j+1])\n",
    "            if dist < min_dist:\n",
    "                min_dist = dist\n",
    "        total += min_dist * shipments[i]  #account for all shipments at each customer destination.\n",
    "    return total\n"
   ]
  },
  {
   "cell_type": "code",
   "execution_count": 89,
   "id": "c39515a3",
   "metadata": {},
   "outputs": [],
   "source": [
    "# Initial guess for the warehouse locations\n",
    "initial_guess = [latitudes[0], longitudes[0], latitudes[1], longitudes[1]]  # You can choose any initial locations, they are just to stimulate the model\n",
    "\n",
    "# Define bounds for latitude and longitude coordinates\n",
    "bounds = [(-90, 90), (-180, 180), (-90, 90), (-180, 180)] # bounds for the entire earth, the smaller you make the faster the optimization will run"
   ]
  },
  {
   "cell_type": "code",
   "execution_count": 93,
   "id": "a99aab74",
   "metadata": {},
   "outputs": [
    {
     "name": "stdout",
     "output_type": "stream",
     "text": [
      "[[  34.04456001 -117.48573065]\n",
      " [  38.65045151  -82.47441726]]\n"
     ]
    }
   ],
   "source": [
    "# Run the optimization - this code finds the optimal points but trying multiple inputs in our warehouse guesses, and looping them through our total_distance function.\n",
    "result = minimize(total_distance, initial_guess, bounds=bounds)\n",
    "\n",
    "# Extract the optimized warehouse locations\n",
    "optimized_warehouses = result.x.reshape(-1, 2)\n",
    "\n",
    "print(optimized_warehouses) # prints out the optimal points into the notebook\n"
   ]
  },
  {
   "cell_type": "code",
   "execution_count": null,
   "id": "25ef522f",
   "metadata": {},
   "outputs": [],
   "source": [
    "# The Coordinates should print out after the above cell is run."
   ]
  }
 ],
 "metadata": {
  "kernelspec": {
   "display_name": "Python 3 (ipykernel)",
   "language": "python",
   "name": "python3"
  },
  "language_info": {
   "codemirror_mode": {
    "name": "ipython",
    "version": 3
   },
   "file_extension": ".py",
   "mimetype": "text/x-python",
   "name": "python",
   "nbconvert_exporter": "python",
   "pygments_lexer": "ipython3",
   "version": "3.9.12"
  }
 },
 "nbformat": 4,
 "nbformat_minor": 5
}
