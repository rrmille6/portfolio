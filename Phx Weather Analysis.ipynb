{
 "cells": [
  {
   "attachments": {},
   "cell_type": "markdown",
   "id": "69ea9552",
   "metadata": {},
   "source": [
    "## The questions answered in this analysis were inspired by an article that came into my phone's __[newsfeed](https://www.accuweather.com/en/weather-forecasts/record-heat-wave-in-phoenix-could-end-with-a-bang/1564900)__ regarding Phoenix's hot weather this year. Phoenix has observed 34 days of over 110 degrees for the current year 2023. I wanted to know how likely it is to see this.\n",
    "\n",
    "\n",
    "https://www.accuweather.com/en/weather-forecasts/record-heat-wave-in-phoenix-could-end-with-a-bang/1564900\n",
    "\n",
    "## As an alumni of Arizona State Univserity, I enjoyed my time in Phoenix, and decided to gather some data and ask my own questions.\n",
    "\n",
    "## In the below analysis we will walk through a few simple calculations to understand if we are observing more days above 110 degrees, what is the probability of observing more years like this year, and what type of trend are we on for the future.\n",
    "\n",
    "## Tools used: <br>1. Descriptive statisical methods <br>2. Linear Regression <br>3. Cumulative Denisty probability functions <br>4. Data visualization"
   ]
  },
  {
   "cell_type": "code",
   "execution_count": 110,
   "id": "c6bf0cd6",
   "metadata": {},
   "outputs": [],
   "source": [
    "# import necessary libraries\n",
    "import pandas as pd\n",
    "import numpy as np\n",
    "import matplotlib.pyplot as plt\n",
    "import seaborn as sns\n",
    "import scipy.stats as stats\n",
    "import statsmodels.api as sm"
   ]
  },
  {
   "cell_type": "code",
   "execution_count": 111,
   "id": "ad7a3955",
   "metadata": {},
   "outputs": [
    {
     "data": {
      "text/html": [
       "<div>\n",
       "<style scoped>\n",
       "    .dataframe tbody tr th:only-of-type {\n",
       "        vertical-align: middle;\n",
       "    }\n",
       "\n",
       "    .dataframe tbody tr th {\n",
       "        vertical-align: top;\n",
       "    }\n",
       "\n",
       "    .dataframe thead th {\n",
       "        text-align: right;\n",
       "    }\n",
       "</style>\n",
       "<table border=\"1\" class=\"dataframe\">\n",
       "  <thead>\n",
       "    <tr style=\"text-align: right;\">\n",
       "      <th></th>\n",
       "      <th>Year</th>\n",
       "      <th>Jan</th>\n",
       "      <th>Feb</th>\n",
       "      <th>Mar</th>\n",
       "      <th>Apr</th>\n",
       "      <th>May</th>\n",
       "      <th>Jun</th>\n",
       "      <th>Jul</th>\n",
       "      <th>Aug</th>\n",
       "      <th>Sep</th>\n",
       "      <th>Oct</th>\n",
       "      <th>Nov</th>\n",
       "      <th>Dec</th>\n",
       "      <th>count</th>\n",
       "      <th>Year.1</th>\n",
       "    </tr>\n",
       "  </thead>\n",
       "  <tbody>\n",
       "    <tr>\n",
       "      <th>0</th>\n",
       "      <td>1950</td>\n",
       "      <td>0</td>\n",
       "      <td>0</td>\n",
       "      <td>0</td>\n",
       "      <td>0</td>\n",
       "      <td>0</td>\n",
       "      <td>2</td>\n",
       "      <td>3</td>\n",
       "      <td>2</td>\n",
       "      <td>1</td>\n",
       "      <td>0</td>\n",
       "      <td>0</td>\n",
       "      <td>0</td>\n",
       "      <td>8</td>\n",
       "      <td>1950</td>\n",
       "    </tr>\n",
       "    <tr>\n",
       "      <th>1</th>\n",
       "      <td>1951</td>\n",
       "      <td>0</td>\n",
       "      <td>0</td>\n",
       "      <td>0</td>\n",
       "      <td>0</td>\n",
       "      <td>2</td>\n",
       "      <td>0</td>\n",
       "      <td>6</td>\n",
       "      <td>0</td>\n",
       "      <td>0</td>\n",
       "      <td>0</td>\n",
       "      <td>0</td>\n",
       "      <td>0</td>\n",
       "      <td>8</td>\n",
       "      <td>1951</td>\n",
       "    </tr>\n",
       "    <tr>\n",
       "      <th>2</th>\n",
       "      <td>1952</td>\n",
       "      <td>0</td>\n",
       "      <td>0</td>\n",
       "      <td>0</td>\n",
       "      <td>0</td>\n",
       "      <td>0</td>\n",
       "      <td>1</td>\n",
       "      <td>2</td>\n",
       "      <td>1</td>\n",
       "      <td>1</td>\n",
       "      <td>0</td>\n",
       "      <td>0</td>\n",
       "      <td>0</td>\n",
       "      <td>5</td>\n",
       "      <td>1952</td>\n",
       "    </tr>\n",
       "    <tr>\n",
       "      <th>3</th>\n",
       "      <td>1953</td>\n",
       "      <td>0</td>\n",
       "      <td>0</td>\n",
       "      <td>0</td>\n",
       "      <td>0</td>\n",
       "      <td>0</td>\n",
       "      <td>4</td>\n",
       "      <td>2</td>\n",
       "      <td>1</td>\n",
       "      <td>0</td>\n",
       "      <td>0</td>\n",
       "      <td>0</td>\n",
       "      <td>0</td>\n",
       "      <td>7</td>\n",
       "      <td>1953</td>\n",
       "    </tr>\n",
       "    <tr>\n",
       "      <th>4</th>\n",
       "      <td>1954</td>\n",
       "      <td>0</td>\n",
       "      <td>0</td>\n",
       "      <td>0</td>\n",
       "      <td>0</td>\n",
       "      <td>0</td>\n",
       "      <td>2</td>\n",
       "      <td>3</td>\n",
       "      <td>0</td>\n",
       "      <td>0</td>\n",
       "      <td>0</td>\n",
       "      <td>0</td>\n",
       "      <td>0</td>\n",
       "      <td>5</td>\n",
       "      <td>1954</td>\n",
       "    </tr>\n",
       "  </tbody>\n",
       "</table>\n",
       "</div>"
      ],
      "text/plain": [
       "   Year  Jan  Feb  Mar  Apr  May  Jun  Jul  Aug  Sep  Oct  Nov  Dec  count  \\\n",
       "0  1950    0    0    0    0    0    2    3    2    1    0    0    0      8   \n",
       "1  1951    0    0    0    0    2    0    6    0    0    0    0    0      8   \n",
       "2  1952    0    0    0    0    0    1    2    1    1    0    0    0      5   \n",
       "3  1953    0    0    0    0    0    4    2    1    0    0    0    0      7   \n",
       "4  1954    0    0    0    0    0    2    3    0    0    0    0    0      5   \n",
       "\n",
       "   Year.1  \n",
       "0    1950  \n",
       "1    1951  \n",
       "2    1952  \n",
       "3    1953  \n",
       "4    1954  "
      ]
     },
     "execution_count": 111,
     "metadata": {},
     "output_type": "execute_result"
    }
   ],
   "source": [
    "#reading in the data & and some column clean up\n",
    "filepath = r'C:\\Users\\RyanMiller\\OneDrive - MVMNT\\Desktop\\Data Science\\phx_weather.csv'\n",
    "raw_data = pd.read_csv(filepath)\n",
    "raw_data.rename(columns={'Days >= 110': 'count'}, inplace=True)\n",
    "\n",
    "#display first 5 rows\n",
    "raw_data.head()"
   ]
  },
  {
   "cell_type": "code",
   "execution_count": 112,
   "id": "532e460c",
   "metadata": {},
   "outputs": [
    {
     "name": "stdout",
     "output_type": "stream",
     "text": [
      "Mean =  16.73972602739726\n",
      "Std Dev =  9.130272293098312\n"
     ]
    }
   ],
   "source": [
    "# find the mean and std dev of the data set.\n",
    "mean = raw_data['count'].mean()\n",
    "std = raw_data['count'].std()\n",
    "print('Mean = ', mean)\n",
    "print('Std Dev = ', std)"
   ]
  },
  {
   "cell_type": "markdown",
   "id": "a707e827",
   "metadata": {},
   "source": [
    "### From these quick calculations, using the timeframe 1950-2022 the mean number of days above 110 degrees that Phoenix see's is 16.73."
   ]
  },
  {
   "cell_type": "code",
   "execution_count": 96,
   "id": "8c2c408b",
   "metadata": {},
   "outputs": [
    {
     "data": {
      "image/png": "[encoded data removed]",
      "text/plain": [
       "<Figure size 432x288 with 1 Axes>"
      ]
     },
     "metadata": {
      "needs_background": "light"
     },
     "output_type": "display_data"
    },
    {
     "data": {
      "text/plain": [
       "<function matplotlib.pyplot.clf()>"
      ]
     },
     "execution_count": 96,
     "metadata": {},
     "output_type": "execute_result"
    }
   ],
   "source": [
    "#gistogram of the data going back to 1950\n",
    "sns.histplot(data=raw_data, x='count', color = \"gold\", alpha = 0.3, bins = 14)\n",
    "plt.show()\n",
    "plt.clf"
   ]
  },
  {
   "cell_type": "markdown",
   "id": "47a77455",
   "metadata": {},
   "source": [
    "### Worth checking out that outlier up at 53 from 2020, throwing off the dataset."
   ]
  },
  {
   "cell_type": "code",
   "execution_count": null,
   "id": "2991de89",
   "metadata": {},
   "outputs": [],
   "source": []
  },
  {
   "cell_type": "markdown",
   "id": "7d1c34da",
   "metadata": {},
   "source": [
    "## How likely are we to see another year like this year, 34 or more observations, when it comes to days above 110 degrees in PHX?"
   ]
  },
  {
   "cell_type": "code",
   "execution_count": 113,
   "id": "a109ddf9",
   "metadata": {},
   "outputs": [
    {
     "name": "stdout",
     "output_type": "stream",
     "text": [
      "{1: 0.9576375419757809, 2: 0.946777451331542, 3: 0.9338191809084371, 4: 0.9185415477972569, 5: 0.9007439837913144, 6: 0.8802578265755583, 7: 0.8569578282077857, 8: 0.8307731806778553, 9: 0.8016972900202908, 10: 0.7697955203275066, 11: 0.7352101860072899, 12: 0.6981621972931643, 13: 0.6589489553956356, 14: 0.617938337116851, 15: 0.5755588846917832, 16: 0.5322866004417837, 17: 0.4886290104655008, 18: 0.445107380666637, 19: 0.4022381194283253, 20: 0.3605144683844691, 21: 0.3203895589115042, 22: 0.28226179969331744, 23: 0.24646337181699285, 24: 0.2132523619382629, 25: 0.18280878601887518, 26: 0.15523447312612926, 27: 0.13055651696018755, 28: 0.10873378440254333, 29: 0.08966581158745979, 30: 0.07320332747140379, 31: 0.05915962357760585, 32: 0.047322030464131304, 33: 0.03746285489528178, 34: 0.029349261499009738, 35: 0.022751732242460854, 36: 0.017450890307343037, 37: 0.013242618071128809, 38: 0.009941521411127696, 39: 0.007382887829535112, 40: 0.0054233511886429, 41: 0.003940511783124934, 42: 0.0028317703332606525, 43: 0.002012623263015878, 44: 0.0014146401601587977, 45: 0.0009833084652249857, 46: 0.0006758904890742379, 47: 0.00045939813058604173, 48: 0.00030875431486709903, 49: 0.00020517919025664355, 50: 0.0001348144579028654, 51: 8.758096833760831e-05, 52: 5.62524080053306e-05, 53: 3.572064441526024e-05, 54: 2.2425058495700867e-05, 55: 1.3917908056826356e-05, 56: 8.539470286228479e-06, 57: 5.1795916994334945e-06, 58: 3.1056983575972197e-06, 59: 1.8408319888418845e-06, 60: 1.0785805285573602e-06, 61: 6.246940206233731e-07, 62: 3.576445835040687e-07, 63: 2.02394642934145e-07, 64: 1.1321482185078224e-07, 65: 6.259773732697482e-08, 66: 3.4210506538734364e-08, 67: 1.8479942354154844e-08, 68: 9.86681369941067e-09, 69: 5.206952979897039e-09, 70: 2.7159153814793058e-09, 71: 1.4001362291793384e-09, 72: 7.134141055686882e-10}\n"
     ]
    }
   ],
   "source": [
    "phx = {}\n",
    "temps = range(1,len(raw_data['count']))\n",
    "\n",
    "for key in temps:\n",
    "    phx[key] = 0\n",
    "\n",
    "probs = []\n",
    "\n",
    "for i in temps:\n",
    "    temp = 1 - stats.norm.cdf(i, mean, std)\n",
    "    probs.append(temp)\n",
    "\n",
    "for i in range(len(temps)):\n",
    "    key = temps[i]\n",
    "    value = probs[i]\n",
    "    phx[key] = value\n",
    "\n",
    "print(phx)"
   ]
  },
  {
   "cell_type": "markdown",
   "id": "6ad2195d",
   "metadata": {},
   "source": [
    "### Based on the historical data fro 1950,  there is a less than 3% (2.9%) chance to see 34 or more days above 110 degrees in Phoenix. That seems a bit low, so, what does the trend look like for the number of days above 110 degrees look like since 1950?"
   ]
  },
  {
   "cell_type": "markdown",
   "id": "d95bf169",
   "metadata": {},
   "source": [
    "### Is there a correlation between years and number of days above 110 degrees in Phx? \n",
    "\n",
    "### i.e. are we seeing more days above 110 as the years go by? If so, how quickly are we seeing an increase? (Linear Regression)"
   ]
  },
  {
   "cell_type": "code",
   "execution_count": 95,
   "id": "fcae1ecb",
   "metadata": {},
   "outputs": [
    {
     "data": {
      "image/png": "[encoded data removed]",
      "text/plain": [
       "<Figure size 432x288 with 1 Axes>"
      ]
     },
     "metadata": {
      "needs_background": "light"
     },
     "output_type": "display_data"
    },
    {
     "data": {
      "text/plain": [
       "<Figure size 432x288 with 0 Axes>"
      ]
     },
     "metadata": {},
     "output_type": "display_data"
    }
   ],
   "source": [
    "#Scatter plot to visualize any trending\n",
    "plt.scatter(x=raw_data['Year'], y = raw_data['count'], color = 'maroon')\n",
    "plt.show()\n",
    "plt.clf()"
   ]
  },
  {
   "cell_type": "markdown",
   "id": "dbb92085",
   "metadata": {},
   "source": [
    "### There appears to be a trend visually, but what does the SLR, simple linear regression, look like if we fit a line to this data?"
   ]
  },
  {
   "cell_type": "code",
   "execution_count": 74,
   "id": "e9c5c353",
   "metadata": {},
   "outputs": [
    {
     "name": "stdout",
     "output_type": "stream",
     "text": [
      "Intercept   -533.190855\n",
      "Year           0.276904\n",
      "dtype: float64\n"
     ]
    }
   ],
   "source": [
    "model = sm.OLS.from_formula('count ~ Year', raw_data)\n",
    "results = model.fit()\n",
    "print(results.params)"
   ]
  },
  {
   "cell_type": "markdown",
   "id": "b5c965f0",
   "metadata": {},
   "source": [
    "### Looks like were seeing a quarter of a day increase every year, or every 4 years we gain an extra day above 110 degrees.  What does this look like on a graph?"
   ]
  },
  {
   "cell_type": "code",
   "execution_count": 100,
   "id": "c6cfcf85",
   "metadata": {},
   "outputs": [
    {
     "data": {
      "image/png": "[encoded data removed]",
      "text/plain": [
       "<Figure size 432x288 with 1 Axes>"
      ]
     },
     "metadata": {
      "needs_background": "light"
     },
     "output_type": "display_data"
    },
    {
     "data": {
      "text/plain": [
       "<function matplotlib.pyplot.clf()>"
      ]
     },
     "execution_count": 100,
     "metadata": {},
     "output_type": "execute_result"
    }
   ],
   "source": [
    "plt.scatter(raw_data['Year'], raw_data['count'], color = 'maroon')\n",
    "plt.plot(raw_data['Year'], results.params[0] + results.params[1]*raw_data['Year'], color = 'aqua')\n",
    "plt.show()\n",
    "plt.clf"
   ]
  },
  {
   "cell_type": "markdown",
   "id": "5d88c446",
   "metadata": {},
   "source": [
    "### When will this current year's (2023) mark of 34 days above 110 degrees be the norm?"
   ]
  },
  {
   "cell_type": "code",
   "execution_count": 118,
   "id": "f57cb955",
   "metadata": {},
   "outputs": [
    {
     "name": "stdout",
     "output_type": "stream",
     "text": [
      "By the year  2049  we will see  34.2 days above 110 degrees\n"
     ]
    }
   ],
   "source": [
    "#trial and error with the values to find the approximate year\n",
    "x = 2049\n",
    "\n",
    "# regression equation using found slope and intecept in cell 100\n",
    "\n",
    "y = results.params[0] + results.params[1]*x\n",
    "y2 = round(y,1)\n",
    "print(\"By the year \", x, \" we will see \", y2, \"days above 110 degrees\")"
   ]
  },
  {
   "cell_type": "markdown",
   "id": "bbea3276",
   "metadata": {},
   "source": [
    "### It appears, based on the dataset, by the year 2049, on average we will expect to see more than 34 days above 110 degrees in PHX."
   ]
  },
  {
   "cell_type": "markdown",
   "id": "440cb59a",
   "metadata": {},
   "source": [
    "## Going back to the question of how likely we are to see more than 34 days above 110 degrees in PHX:  we calculated a 2.9% chance of seeing more than 34 days above 110 if we use the data going all the way back to 1950. \n",
    "\n",
    "## However, from the scatter plot we see that there is a clear rising in the number of days observed. So, if we use a sample size of the last 30 years, what is the probability we observe 34 or more? "
   ]
  },
  {
   "cell_type": "code",
   "execution_count": 102,
   "id": "0a6d6c52",
   "metadata": {},
   "outputs": [
    {
     "data": {
      "text/html": [
       "<div>\n",
       "<style scoped>\n",
       "    .dataframe tbody tr th:only-of-type {\n",
       "        vertical-align: middle;\n",
       "    }\n",
       "\n",
       "    .dataframe tbody tr th {\n",
       "        vertical-align: top;\n",
       "    }\n",
       "\n",
       "    .dataframe thead th {\n",
       "        text-align: right;\n",
       "    }\n",
       "</style>\n",
       "<table border=\"1\" class=\"dataframe\">\n",
       "  <thead>\n",
       "    <tr style=\"text-align: right;\">\n",
       "      <th></th>\n",
       "      <th>Year</th>\n",
       "      <th>Jan</th>\n",
       "      <th>Feb</th>\n",
       "      <th>Mar</th>\n",
       "      <th>Apr</th>\n",
       "      <th>May</th>\n",
       "      <th>Jun</th>\n",
       "      <th>Jul</th>\n",
       "      <th>Aug</th>\n",
       "      <th>Sep</th>\n",
       "      <th>Oct</th>\n",
       "      <th>Nov</th>\n",
       "      <th>Dec</th>\n",
       "      <th>count</th>\n",
       "      <th>Year.1</th>\n",
       "    </tr>\n",
       "  </thead>\n",
       "  <tbody>\n",
       "    <tr>\n",
       "      <th>68</th>\n",
       "      <td>2018</td>\n",
       "      <td>0</td>\n",
       "      <td>0</td>\n",
       "      <td>0</td>\n",
       "      <td>0</td>\n",
       "      <td>0</td>\n",
       "      <td>5</td>\n",
       "      <td>10</td>\n",
       "      <td>7</td>\n",
       "      <td>0</td>\n",
       "      <td>0</td>\n",
       "      <td>0</td>\n",
       "      <td>0</td>\n",
       "      <td>22</td>\n",
       "      <td>2018</td>\n",
       "    </tr>\n",
       "    <tr>\n",
       "      <th>69</th>\n",
       "      <td>2019</td>\n",
       "      <td>0</td>\n",
       "      <td>0</td>\n",
       "      <td>0</td>\n",
       "      <td>0</td>\n",
       "      <td>0</td>\n",
       "      <td>4</td>\n",
       "      <td>11</td>\n",
       "      <td>12</td>\n",
       "      <td>2</td>\n",
       "      <td>0</td>\n",
       "      <td>0</td>\n",
       "      <td>0</td>\n",
       "      <td>29</td>\n",
       "      <td>2019</td>\n",
       "    </tr>\n",
       "    <tr>\n",
       "      <th>70</th>\n",
       "      <td>2020</td>\n",
       "      <td>0</td>\n",
       "      <td>0</td>\n",
       "      <td>0</td>\n",
       "      <td>0</td>\n",
       "      <td>2</td>\n",
       "      <td>7</td>\n",
       "      <td>19</td>\n",
       "      <td>22</td>\n",
       "      <td>3</td>\n",
       "      <td>0</td>\n",
       "      <td>0</td>\n",
       "      <td>0</td>\n",
       "      <td>53</td>\n",
       "      <td>2020</td>\n",
       "    </tr>\n",
       "    <tr>\n",
       "      <th>71</th>\n",
       "      <td>2021</td>\n",
       "      <td>0</td>\n",
       "      <td>0</td>\n",
       "      <td>0</td>\n",
       "      <td>0</td>\n",
       "      <td>0</td>\n",
       "      <td>11</td>\n",
       "      <td>6</td>\n",
       "      <td>4</td>\n",
       "      <td>1</td>\n",
       "      <td>0</td>\n",
       "      <td>0</td>\n",
       "      <td>0</td>\n",
       "      <td>22</td>\n",
       "      <td>2021</td>\n",
       "    </tr>\n",
       "    <tr>\n",
       "      <th>72</th>\n",
       "      <td>2022</td>\n",
       "      <td>0</td>\n",
       "      <td>0</td>\n",
       "      <td>0</td>\n",
       "      <td>0</td>\n",
       "      <td>0</td>\n",
       "      <td>6</td>\n",
       "      <td>14</td>\n",
       "      <td>1</td>\n",
       "      <td>1</td>\n",
       "      <td>0</td>\n",
       "      <td>0</td>\n",
       "      <td>0</td>\n",
       "      <td>22</td>\n",
       "      <td>2022</td>\n",
       "    </tr>\n",
       "  </tbody>\n",
       "</table>\n",
       "</div>"
      ],
      "text/plain": [
       "    Year  Jan  Feb  Mar  Apr  May  Jun  Jul  Aug  Sep  Oct  Nov  Dec  count  \\\n",
       "68  2018    0    0    0    0    0    5   10    7    0    0    0    0     22   \n",
       "69  2019    0    0    0    0    0    4   11   12    2    0    0    0     29   \n",
       "70  2020    0    0    0    0    2    7   19   22    3    0    0    0     53   \n",
       "71  2021    0    0    0    0    0   11    6    4    1    0    0    0     22   \n",
       "72  2022    0    0    0    0    0    6   14    1    1    0    0    0     22   \n",
       "\n",
       "    Year.1  \n",
       "68    2018  \n",
       "69    2019  \n",
       "70    2020  \n",
       "71    2021  \n",
       "72    2022  "
      ]
     },
     "execution_count": 102,
     "metadata": {},
     "output_type": "execute_result"
    }
   ],
   "source": [
    "#taking a subsection of the data set from the last 30 years.\n",
    "new_df = raw_data[(raw_data.Year > 1991)]\n",
    "\n",
    "new_df.tail()"
   ]
  },
  {
   "cell_type": "code",
   "execution_count": 103,
   "id": "c59c7295",
   "metadata": {},
   "outputs": [
    {
     "name": "stdout",
     "output_type": "stream",
     "text": [
      "The mean days above 110 degrees in PHX since 1992 is:  21.29032258064516\n",
      "The std deviation of days above 110 degrees in PHX since 1992 is:  9.37796548080338\n"
     ]
    }
   ],
   "source": [
    "#calcualte the new mean and standard deviation\n",
    "new_mean = new_df['count'].mean()\n",
    "new_std = new_df['count'].std()\n",
    "print(\"The mean days above 110 degrees in PHX since 1992 is: \", new_mean)\n",
    "print(\"The std deviation of days above 110 degrees in PHX since 1992 is: \", new_std)"
   ]
  },
  {
   "cell_type": "markdown",
   "id": "bf2d7553",
   "metadata": {},
   "source": [
    "### The mean number of days observed above 110 increased from 16.7 to 21.3. The standard deviation stays the same at about 9. \n",
    "\n",
    "### But, from this as well as the scatter plot, we can see that the number of hot days above 110 degrees observed per year is increasing.\n",
    "\n"
   ]
  },
  {
   "cell_type": "markdown",
   "id": "0cbb09b0",
   "metadata": {},
   "source": [
    "## Let's calculate the new probability given this new data set consisting of only the last 30 years (since 1992).\n",
    "## We should expect to see a higher probability, given we've uncovered there is a rise in the number of days observed above 110 degrees per year."
   ]
  },
  {
   "cell_type": "code",
   "execution_count": 107,
   "id": "e526af03",
   "metadata": {},
   "outputs": [
    {
     "name": "stdout",
     "output_type": "stream",
     "text": [
      "{1: 0.9847531100137444, 2: 0.9801561053881391, 3: 0.9744328398047789, 4: 0.9673878666369873, 5: 0.958813910181081, 6: 0.9484969990140921, 7: 0.9362230420281644, 8: 0.9217857416595885, 9: 0.9049956186739601, 10: 0.8856897986402552, 11: 0.8637420932850803, 12: 0.8390728128860725, 13: 0.8116576813205396, 14: 0.7815352043519157, 15: 0.7488118721247202, 16: 0.713664662092221, 17: 0.6763404467400626, 18: 0.6371520937249835, 19: 0.5964712612035938, 20: 0.5547181205854694, 21: 0.5123484624408261, 22: 0.46983883805079574, 23: 0.4276705401701043, 24: 0.3863133170951767, 25: 0.34620973505296593, 26: 0.30776105314471214, 27: 0.27131535768920834, 28: 0.2371585304816587, 29: 0.20550841504877715, 30: 0.1765123164312169, 31: 0.1502477442043666, 32: 0.12672610474752855, 33: 0.1058988831238108, 34: 0.0876657383597923, 35: 0.0718838737554982, 36: 0.058378035734876876, 37: 0.0469505352027606, 38: 0.037390765009171045, 39: 0.029483794070148006, 40: 0.02301774018210001, 41: 0.017789747360036468, 42: 0.013610509108346713, 43: 0.010307378385171595, 44: 0.00772618302991579, 45: 0.005731919857120071, 46: 0.0042085318107701886, 47: 0.003057982873179599, 48: 0.002198838550243498, 49: 0.0015645401313476581, 50: 0.001101533078506467, 51: 0.0007673780075403425, 52: 0.0005289402789896425, 53: 0.0003607238674846469, 54: 0.00024338869425455378, 55: 0.00016246894315408156, 56: 0.0001072933106494034, 57: 7.009642640498637e-05, 58: 4.530324462148627e-05, 59: 2.896428413079466e-05, 60: 1.831836813703802e-05, 61: 1.1460200458501824e-05, 62: 7.092029639776953e-06, 63: 4.341238766691902e-06, 64: 2.6285360713584893e-06, 65: 1.5742151363573598e-06, 66: 9.32517973617486e-07, 67: 5.463699241925468e-07, 68: 3.16626015073318e-07, 69: 1.8148082314706215e-07, 70: 1.0288062846086632e-07, 71: 5.768326816202318e-08, 72: 3.198706588491973e-08}\n"
     ]
    }
   ],
   "source": [
    "\n",
    "phx2 = {}\n",
    "temps2 = range(1,len(raw_data['count']))\n",
    "\n",
    "#Creating blank data dictionary\n",
    "for key in temps2:\n",
    "    phx2[key] = 0\n",
    "\n",
    "\n",
    "\n",
    "#calacualte the probability of observing more than \"X\" amount of days above 110 degrees, store in list.\n",
    "probs2 = []\n",
    "for i in temps2:\n",
    "    temp = 1 - stats.norm.cdf(i, new_mean, new_std)\n",
    "    probs2.append(temp)\n",
    "\n",
    "#storing all valuesin data dictionary, matching corresponding number of days to probability.\n",
    "for i in range(len(temps2)):\n",
    "    key = temps2[i]\n",
    "    value = probs2[i]\n",
    "    phx2[key] = value\n",
    "\n",
    "print(phx2)"
   ]
  },
  {
   "cell_type": "markdown",
   "id": "0e393596",
   "metadata": {},
   "source": [
    "## Looks like there is a 9% (8.7%) chance that we see more than 34 days above 110 degrees, in any given year,  in PHX nowadays based on the warming we've seen in recent years. "
   ]
  },
  {
   "cell_type": "code",
   "execution_count": null,
   "id": "9c9c937e",
   "metadata": {},
   "outputs": [],
   "source": []
  },
  {
   "cell_type": "code",
   "execution_count": null,
   "id": "9d67ad6b",
   "metadata": {},
   "outputs": [],
   "source": []
  },
  {
   "cell_type": "markdown",
   "id": "44e8bc11",
   "metadata": {},
   "source": [
    "## What did we learn here: \n",
    "### The mean number of days above 110 degrees per year is rising. We are seeing more extremely hot days per year.\n",
    "### As it stands currently, there is a above a 9% chance we see another year with 34 or more observations of days above 110 in PHX.\n",
    "### By the year 2049, we can expect a full months worth of heat (34 or more days) to be the norm (mean) baed on the trend."
   ]
  },
  {
   "cell_type": "markdown",
   "id": "4bccb81c",
   "metadata": {},
   "source": [
    "# Stay cool!"
   ]
  },
  {
   "cell_type": "code",
   "execution_count": null,
   "id": "801245c5",
   "metadata": {},
   "outputs": [],
   "source": []
  },
  {
   "cell_type": "markdown",
   "id": "e9451021",
   "metadata": {},
   "source": [
    "### Bonus: because of the trend of more hot days observed, let's looks at the histogram of data from 1950 to 2022 and compare it to the last thirty years of  data: 1992-2022. Of course, we'll have to normalize the data to ensure we are comparing evenly due to the difference in number of observations."
   ]
  },
  {
   "cell_type": "code",
   "execution_count": 138,
   "id": "d1e21d68",
   "metadata": {},
   "outputs": [
    {
     "data": {
      "image/png": "[encoded data removed]",
      "text/plain": [
       "<Figure size 432x288 with 1 Axes>"
      ]
     },
     "metadata": {
      "needs_background": "light"
     },
     "output_type": "display_data"
    },
    {
     "data": {
      "text/plain": [
       "<Figure size 432x288 with 0 Axes>"
      ]
     },
     "metadata": {},
     "output_type": "display_data"
    }
   ],
   "source": [
    "plt.hist(data=raw_data, x='count', label=\"Last 70 years - 1950-2022\", density=True, alpha=0.5, bins = 14, color = \"gold\")\n",
    "plt.hist(data=new_df, x='count', label=\"Last 30 years - 1992-2022\", density=True, alpha=0.3, bins = 14, color = \"crimson\")\n",
    "plt.legend()\n",
    "plt.xlabel(\"# of days observed >110\")\n",
    "plt.ylabel(\"Density\")\n",
    "plt.show()\n",
    "plt.clf()"
   ]
  },
  {
   "cell_type": "markdown",
   "id": "9a5ce390",
   "metadata": {},
   "source": [
    "### This helps visualize and confirm the shift/trend towards more days above 110 degrees observed per year in PHX. If we look on the X-Axis, between the 20-30 range, we see the large block of red, with not overlap of yellow, signaling the last 30 years has a grater number of days above 110 degrees observed per year."
   ]
  },
  {
   "cell_type": "code",
   "execution_count": null,
   "id": "92859607",
   "metadata": {},
   "outputs": [],
   "source": []
  }
 ],
 "metadata": {
  "kernelspec": {
   "display_name": "Python 3 (ipykernel)",
   "language": "python",
   "name": "python3"
  },
  "language_info": {
   "codemirror_mode": {
    "name": "ipython",
    "version": 3
   },
   "file_extension": ".py",
   "mimetype": "text/x-python",
   "name": "python",
   "nbconvert_exporter": "python",
   "pygments_lexer": "ipython3",
   "version": "3.9.12"
  }
 },
 "nbformat": 4,
 "nbformat_minor": 5
}
